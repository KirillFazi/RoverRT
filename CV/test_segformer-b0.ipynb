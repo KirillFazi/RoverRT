{
 "cells": [
  {
   "cell_type": "code",
   "execution_count": 152,
   "metadata": {
    "collapsed": true
   },
   "outputs": [],
   "source": [
    "import numpy as np\n",
    "import torch\n",
    "import matplotlib.pyplot as plt\n",
    "import torch.nn.functional as F\n",
    "from torchvision import transforms\n",
    "from transformers import pipeline, SegformerImageProcessor, SegformerForSemanticSegmentation\n",
    "import requests\n",
    "from PIL import Image\n",
    "import urllib.parse as parse\n",
    "import os"
   ]
  },
  {
   "cell_type": "code",
   "execution_count": 153,
   "outputs": [
    {
     "name": "stderr",
     "output_type": "stream",
     "text": [
      "/Users/kirill/.pyenv/versions/3.10.11/lib/python3.10/site-packages/transformers/models/segformer/image_processing_segformer.py:99: FutureWarning: The `reduce_labels` parameter is deprecated and will be removed in a future version. Please use `do_reduce_labels` instead.\n",
      "  warnings.warn(\n"
     ]
    }
   ],
   "source": [
    "feature_extractor = SegformerImageProcessor.from_pretrained(\"nvidia/segformer-b0-finetuned-cityscapes-512-1024\")\n",
    "model = SegformerForSemanticSegmentation.from_pretrained(\"nvidia/segformer-b0-finetuned-cityscapes-512-1024\")"
   ],
   "metadata": {
    "collapsed": false
   }
  },
  {
   "cell_type": "code",
   "execution_count": 154,
   "outputs": [],
   "source": [
    "# a function to determine whether a string is a URL or not\n",
    "def is_url(string):\n",
    "    try:\n",
    "        result = parse.urlparse(string)\n",
    "        return all([result.scheme, result.netloc, result.path])\n",
    "    except:\n",
    "        return False\n",
    "\n",
    "# a function to load an image\n",
    "def load_image(image_path):\n",
    "    \"\"\"Helper function to load images from their URLs or paths.\"\"\"\n",
    "    if is_url(image_path):\n",
    "        return Image.open(requests.get(image_path, stream=True).raw)\n",
    "    elif os.path.exists(image_path):\n",
    "        return Image.open(image_path)"
   ],
   "metadata": {
    "collapsed": false
   }
  },
  {
   "cell_type": "code",
   "execution_count": 155,
   "outputs": [],
   "source": [
    "# convert PIL Image to pytorch tensors\n",
    "img_path = \"pictures/5e65508b43b3c10fe35c60e23ab57eb8.jpg\"\n",
    "image = load_image(img_path)"
   ],
   "metadata": {
    "collapsed": false
   }
  },
  {
   "cell_type": "code",
   "execution_count": 156,
   "outputs": [],
   "source": [
    "transform = transforms.ToTensor()\n",
    "image_tensor = image.convert(\"RGB\")\n",
    "image_tensor = transform(image_tensor)"
   ],
   "metadata": {
    "collapsed": false
   }
  },
  {
   "cell_type": "code",
   "execution_count": 157,
   "outputs": [],
   "source": [
    "def color_palette():\n",
    "    \"\"\"Color palette to map each class to its corresponding color.\"\"\"\n",
    "    return [[0, 128, 128],\n",
    "            [255, 170, 0],\n",
    "            [161, 19, 46],\n",
    "            [118, 171, 47],\n",
    "            [255, 255, 0],\n",
    "            [84, 170, 127],\n",
    "            [170, 84, 127],\n",
    "            [33, 138, 200],\n",
    "            [255, 84, 0],\n",
    "            [0, 118, 255],\n",
    "            [0, 84, 255],\n",
    "            [0, 0, 255],\n",
    "            [0, 255, 255],\n",
    "            [0, 255, 0]]"
   ],
   "metadata": {
    "collapsed": false
   }
  },
  {
   "cell_type": "code",
   "execution_count": 158,
   "outputs": [],
   "source": [
    "def overlay_segments(image, seg_mask):\n",
    "    \"\"\"Return different segments predicted by the model overlaid on image.\"\"\"\n",
    "    H, W = seg_mask.shape\n",
    "    image_mask = np.zeros((H, W, 3), dtype=np.uint8)\n",
    "    colors = np.array(color_palette())\n",
    "    # convert to a pytorch tensor if seg_mask is not one already\n",
    "    seg_mask = seg_mask if torch.is_tensor(seg_mask) else torch.tensor(seg_mask)\n",
    "    unique_labels = torch.unique(seg_mask)\n",
    "    # map each segment label to a unique color\n",
    "    for i, label in enumerate(unique_labels):\n",
    "        image_mask[seg_mask == label.item(), :] = colors[i]\n",
    "    image = np.array(image)\n",
    "    # percentage of original image in the final overlaid iamge\n",
    "    img_weight = 0.5\n",
    "    # overlay input image and the generated segment mask\n",
    "    img = img_weight * np.array(image) * 255 + (1 - img_weight) * image_mask\n",
    "    return img.astype(np.uint8)"
   ],
   "metadata": {
    "collapsed": false
   }
  },
  {
   "cell_type": "code",
   "execution_count": 159,
   "outputs": [],
   "source": [
    "def to_tensor(image):\n",
    "    \"\"\"Convert PIL Image to pytorch tensor.\"\"\"\n",
    "    transform = transforms.ToTensor()\n",
    "    image_tensor = image.convert(\"RGB\")\n",
    "    image_tensor = transform(image_tensor)\n",
    "    return image_tensor\n",
    "\n",
    "# a function that takes an image and return the segmented image\n",
    "def get_segmented_image(model, feature_extractor, image_path):\n",
    "    \"\"\"Return the predicted segmentation mask for the input image.\"\"\"\n",
    "    # load the image\n",
    "    image = load_image(image_path)\n",
    "    # preprocess input\n",
    "    inputs = feature_extractor(images=image, return_tensors=\"pt\")\n",
    "    # convert to pytorch tensor\n",
    "    image_tensor = to_tensor(image)\n",
    "    # pass the processed input to the model\n",
    "    outputs = model(**inputs)\n",
    "    print(\"outputs.logits.shape:\", outputs.logits.shape)\n",
    "    # interpolate output logits to the same shape as the input image\n",
    "    upsampled_logits = F.interpolate(\n",
    "        outputs.logits, # tensor to be interpolated\n",
    "        size=image_tensor.shape[1:], # output size we want\n",
    "        mode='bilinear', # do bilinear interpolation\n",
    "        align_corners=False)\n",
    "\n",
    "    # get the class with max probabilities\n",
    "    segmentation_mask = upsampled_logits.argmax(dim=1)[0]\n",
    "    print(f\"{segmentation_mask.shape=}\")\n",
    "    # get the segmented image\n",
    "    segmented_img = overlay_segments(image_tensor.permute(1, 2, 0), segmentation_mask)\n",
    "    # convert to PIL Image\n",
    "    return Image.fromarray(segmented_img)"
   ],
   "metadata": {
    "collapsed": false
   }
  },
  {
   "cell_type": "code",
   "execution_count": 160,
   "outputs": [],
   "source": [
    "def replace_label(mask, label):\n",
    "  \"\"\"Replace the segment masks values with label.\"\"\"\n",
    "  mask = np.array(mask)\n",
    "  mask[mask == 255] = label\n",
    "  return mask"
   ],
   "metadata": {
    "collapsed": false
   }
  },
  {
   "cell_type": "code",
   "execution_count": 161,
   "outputs": [
    {
     "name": "stderr",
     "output_type": "stream",
     "text": [
      "Could not find image processor class in the image processor config or the model config. Loading based on pattern matching with the model's feature extractor configuration.\n"
     ]
    }
   ],
   "source": [
    "img_segmentation_pipeline = pipeline('image-segmentation',\n",
    "                                     model=\"nvidia/segformer-b0-finetuned-cityscapes-512-1024\")"
   ],
   "metadata": {
    "collapsed": false
   }
  },
  {
   "cell_type": "code",
   "execution_count": 162,
   "outputs": [
    {
     "data": {
      "text/plain": "[{'score': None,\n  'label': 'road',\n  'mask': <PIL.Image.Image image mode=L size=1200x800>},\n {'score': None,\n  'label': 'sidewalk',\n  'mask': <PIL.Image.Image image mode=L size=1200x800>},\n {'score': None,\n  'label': 'building',\n  'mask': <PIL.Image.Image image mode=L size=1200x800>},\n {'score': None,\n  'label': 'pole',\n  'mask': <PIL.Image.Image image mode=L size=1200x800>},\n {'score': None,\n  'label': 'traffic light',\n  'mask': <PIL.Image.Image image mode=L size=1200x800>},\n {'score': None,\n  'label': 'traffic sign',\n  'mask': <PIL.Image.Image image mode=L size=1200x800>},\n {'score': None,\n  'label': 'vegetation',\n  'mask': <PIL.Image.Image image mode=L size=1200x800>},\n {'score': None,\n  'label': 'sky',\n  'mask': <PIL.Image.Image image mode=L size=1200x800>},\n {'score': None,\n  'label': 'person',\n  'mask': <PIL.Image.Image image mode=L size=1200x800>},\n {'score': None,\n  'label': 'car',\n  'mask': <PIL.Image.Image image mode=L size=1200x800>},\n {'score': None,\n  'label': 'truck',\n  'mask': <PIL.Image.Image image mode=L size=1200x800>}]"
     },
     "execution_count": 162,
     "metadata": {},
     "output_type": "execute_result"
    }
   ],
   "source": [
    "output = img_segmentation_pipeline(image)\n",
    "output"
   ],
   "metadata": {
    "collapsed": false
   }
  },
  {
   "cell_type": "code",
   "execution_count": 163,
   "outputs": [
    {
     "data": {
      "text/plain": "11"
     },
     "execution_count": 163,
     "metadata": {},
     "output_type": "execute_result"
    }
   ],
   "source": [
    "len(output)"
   ],
   "metadata": {
    "collapsed": false
   }
  },
  {
   "cell_type": "code",
   "execution_count": 164,
   "outputs": [],
   "source": [
    "# load the feature extractor (to preprocess images) and the model (to get outputs)\n",
    "W, H = image.size\n",
    "segmentation_mask = np.zeros((H, W), dtype=np.uint8)\n",
    "\n",
    "for i in range(len(output)):\n",
    "    segmentation_mask += replace_label(output[i]['mask'], i)"
   ],
   "metadata": {
    "collapsed": false
   }
  },
  {
   "cell_type": "code",
   "execution_count": 165,
   "outputs": [],
   "source": [
    "# overlay the predicted segmentation masks on the original image\n",
    "segmented_img = overlay_segments(image_tensor.permute(1, 2, 0), segmentation_mask)\n",
    "\n",
    "# convert to PIL Image\n",
    "converted_img = Image.fromarray(segmented_img)"
   ],
   "metadata": {
    "collapsed": false
   }
  },
  {
   "cell_type": "code",
   "execution_count": 166,
   "outputs": [],
   "source": [
    "# get_segmented_image(model, feature_extractor, img_path)"
   ],
   "metadata": {
    "collapsed": false
   }
  },
  {
   "cell_type": "code",
   "execution_count": 167,
   "outputs": [],
   "source": [
    "# show converted image\n",
    "converted_img.show()"
   ],
   "metadata": {
    "collapsed": false
   }
  },
  {
   "cell_type": "code",
   "execution_count": 168,
   "outputs": [
    {
     "data": {
      "text/plain": "<PIL.Image.Image image mode=L size=1200x800>",
      "image/png": "[encoded data removed]"
     },
     "execution_count": 168,
     "metadata": {},
     "output_type": "execute_result"
    }
   ],
   "source": [
    "output[0]['mask']"
   ],
   "metadata": {
    "collapsed": false
   }
  },
  {
   "cell_type": "code",
   "execution_count": 169,
   "outputs": [
    {
     "data": {
      "text/plain": "<PIL.Image.Image image mode=L size=1200x800>",
      "image/png": "[encoded data removed]"
     },
     "execution_count": 169,
     "metadata": {},
     "output_type": "execute_result"
    }
   ],
   "source": [
    "output[1]['mask']"
   ],
   "metadata": {
    "collapsed": false
   }
  },
  {
   "cell_type": "code",
   "execution_count": 170,
   "outputs": [],
   "source": [
    "# segmented_image_from_func = get_segmented_image(model, feature_extractor, img_path)"
   ],
   "metadata": {
    "collapsed": false
   }
  },
  {
   "cell_type": "code",
   "execution_count": 171,
   "outputs": [],
   "source": [
    "# segmented_image_from_func.show()"
   ],
   "metadata": {
    "collapsed": false
   }
  },
  {
   "cell_type": "code",
   "execution_count": 172,
   "outputs": [],
   "source": [
    "# show only road\n",
    "road = np.zeros((H, W), dtype=np.uint8)\n",
    "road[segmentation_mask == 0] = 1"
   ],
   "metadata": {
    "collapsed": false
   }
  },
  {
   "cell_type": "code",
   "execution_count": 173,
   "outputs": [],
   "source": [
    "side_walk = np.zeros((H, W), dtype=np.uint8)\n",
    "side_walk[segmentation_mask == 1] = 1"
   ],
   "metadata": {
    "collapsed": false
   }
  },
  {
   "cell_type": "code",
   "execution_count": 174,
   "outputs": [
    {
     "data": {
      "text/plain": "(800, 1200)"
     },
     "execution_count": 174,
     "metadata": {},
     "output_type": "execute_result"
    }
   ],
   "source": [
    "road.shape"
   ],
   "metadata": {
    "collapsed": false
   }
  },
  {
   "cell_type": "code",
   "execution_count": 175,
   "outputs": [
    {
     "data": {
      "text/plain": "1.0"
     },
     "execution_count": 175,
     "metadata": {},
     "output_type": "execute_result"
    }
   ],
   "source": [
    "np.mean(road[-100:-1, W//2-100:W//2+100])"
   ],
   "metadata": {
    "collapsed": false
   }
  },
  {
   "cell_type": "code",
   "execution_count": 176,
   "outputs": [],
   "source": [
    "def detect_location(mask):\n",
    "    \"\"\"Detect the location of the object in the image.\"\"\"\n",
    "    H, W = mask.shape\n",
    "\n",
    "    detection_cof_h = int(H * 0.05)\n",
    "    detection_cof_w = int(W * 0.05)\n",
    "\n",
    "    detection_area = [-detection_cof_h, -1, W//2-detection_cof_w, W//2+detection_cof_w]\n",
    "\n",
    "    location_label = {\n",
    "        'road': 0,\n",
    "        'side_walk': 0,\n",
    "    }\n",
    "\n",
    "    for i, key in enumerate(location_label):\n",
    "        way = np.zeros((H, W), dtype=np.uint8)\n",
    "        way[mask == i] = 1\n",
    "\n",
    "        location_label[key] = (np.mean(way[detection_area[0]:detection_area[1], detection_area[2]:detection_area[3]]) > 0.8) * 1\n",
    "\n",
    "    return location_label\n"
   ],
   "metadata": {
    "collapsed": false
   }
  },
  {
   "cell_type": "code",
   "execution_count": 177,
   "outputs": [
    {
     "data": {
      "text/plain": "{'road': 1, 'side_walk': 0}"
     },
     "execution_count": 177,
     "metadata": {},
     "output_type": "execute_result"
    }
   ],
   "source": [
    "detect_location(segmentation_mask)"
   ],
   "metadata": {
    "collapsed": false
   }
  },
  {
   "cell_type": "code",
   "execution_count": 187,
   "outputs": [],
   "source": [
    "road = np.zeros((H, W), dtype=np.uint8)\n",
    "road[segmentation_mask == 0] = 1\n",
    "\n",
    "cof_h = int(H * 0.05)\n",
    "cof_w = int(W * 0.05)\n",
    "\n",
    "center_w = W//2\n",
    "\n",
    "left_dist = []\n",
    "right_dist = []\n",
    "\n",
    "for i in range(-1, -cof_h, -1):\n",
    "    for j in range(center_w, 0, -1):\n",
    "        if road[i, j] == 0:\n",
    "            left_dist.append(center_w - j)\n",
    "            break\n",
    "    left_dist.append(center_w - 0)\n",
    "\n",
    "    for j in range(center_w, W):\n",
    "        if road[i, j] == 0:\n",
    "            right_dist.append(j - center_w)\n",
    "            break\n",
    "    right_dist.append(W - center_w)"
   ],
   "metadata": {
    "collapsed": false
   }
  },
  {
   "cell_type": "code",
   "execution_count": 190,
   "outputs": [
    {
     "data": {
      "text/plain": "600.0"
     },
     "execution_count": 190,
     "metadata": {},
     "output_type": "execute_result"
    }
   ],
   "source": [
    "np.median(left_dist)"
   ],
   "metadata": {
    "collapsed": false
   }
  },
  {
   "cell_type": "code",
   "execution_count": 191,
   "outputs": [
    {
     "data": {
      "text/plain": "600.0"
     },
     "execution_count": 191,
     "metadata": {},
     "output_type": "execute_result"
    }
   ],
   "source": [
    "np.median(right_dist)"
   ],
   "metadata": {
    "collapsed": false
   }
  },
  {
   "cell_type": "code",
   "execution_count": 177,
   "outputs": [],
   "source": [],
   "metadata": {
    "collapsed": false
   }
  },
  {
   "cell_type": "code",
   "execution_count": 177,
   "outputs": [],
   "source": [],
   "metadata": {
    "collapsed": false
   }
  },
  {
   "cell_type": "code",
   "execution_count": 177,
   "outputs": [],
   "source": [],
   "metadata": {
    "collapsed": false
   }
  }
 ],
 "metadata": {
  "kernelspec": {
   "display_name": "Python 3",
   "language": "python",
   "name": "python3"
  },
  "language_info": {
   "codemirror_mode": {
    "name": "ipython",
    "version": 2
   },
   "file_extension": ".py",
   "mimetype": "text/x-python",
   "name": "python",
   "nbconvert_exporter": "python",
   "pygments_lexer": "ipython2",
   "version": "2.7.6"
  }
 },
 "nbformat": 4,
 "nbformat_minor": 0
}
